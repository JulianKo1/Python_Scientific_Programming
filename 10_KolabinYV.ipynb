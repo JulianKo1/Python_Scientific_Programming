{
 "cells": [
  {
   "cell_type": "markdown",
   "metadata": {},
   "source": [
    "# Задача № 10\n",
    "# Момент инерции\n",
    "### Выполнил: Колабин Ю.В.\n",
    "### Группа: 3822М1ФИии1"
   ]
  },
  {
   "cell_type": "markdown",
   "metadata": {},
   "source": [
    "### **Условие**\n",
    "Требуется определить внешний ***R*** и внутренний ***r*** радиусы цилиндрической трубы, если известны ее длина ***ℓ***, толщина $h = R − r$, плотность ***ρ*** и момент инерции относительно ее продольной оси ***I***.\n",
    "Момент инерции для цилиндрической трубы вычисляется по формуле:\n",
    "$$\n",
    "I = \\frac{\\pi\\rho l}{2}(R^{4} - r^{4})\n",
    "$$\n",
    "и задача сводится к решению кубического уравнения."
   ]
  },
  {
   "cell_type": "markdown",
   "metadata": {},
   "source": [
    "### **Подзадачи**\n",
    "1. Вывести это кубическое уравнение.\n",
    "2. Решить его численно для значений: $l = 2, h = 0.02, \\rho = 1200, I = 1.2$; Выяснить, сколько вещественных корней имеет уравнение.\n",
    "3. Построить график зависимости $r$ от $I$ при значениях $ℓ, h, ρ$, указанных выше."
   ]
  },
  {
   "cell_type": "markdown",
   "metadata": {},
   "source": [
    "## **Решение**"
   ]
  },
  {
   "cell_type": "markdown",
   "metadata": {},
   "source": [
    "### **Подзадача № 1. Вывод кубического уравнения**"
   ]
  },
  {
   "cell_type": "markdown",
   "metadata": {},
   "source": [
    "Необходимо найти внешний и внутренний радиусы цилиндрической трубы. Исходя из формулы, данной в условии, $h = R − r$, можно сделать вывод, что зная любой из радиуса, можно определить другой (т.к. $h$ дано). Я буду искать внутренний радиус цилиндра $r$.\n",
    "\n",
    "Выражаю $R$ для дальнейшей подстановки:\n",
    "\n",
    "$$\n",
    "R = h + r\n",
    "$$\n",
    "\n",
    "Подставляю в формулу момента инерции:\n",
    "\n",
    "$$\n",
    "I = \\frac{\\pi\\rho l}{2}((h + r))^{4} - r^{4})\n",
    "$$\n",
    "\n",
    "Упрощу часть выражения, воспользовавшись биномиальной формулой Ньютона:\n",
    "\n",
    "$$\n",
    "((h + r))^{4} - r^{4}) = h^4 + 4h^3r + 6h^2r^2 + 4hr^3 + r^4\n",
    "$$\n",
    "\n",
    "Получается следующее:\n",
    "\n",
    "$$\n",
    "I = \\frac{\\pi\\rho l}{2}(r^3(4h) + r^2(6h^2) + r(4h^3) + h^4)\n",
    "$$\n",
    "\n",
    "Окончательно преобразую кубическое уравнение.\n",
    "\n",
    "Воспользуюсь заменой $\\omega = \\pi\\rho l$, чтобы сократить объем записи.\n",
    "\n",
    "$$\n",
    "r^3(2\\omega h) + r^2(3\\omega h^2) + r(2\\omega h^3) + \\frac{\\omega h^4}{2} - I = 0\n",
    "$$"
   ]
  },
  {
   "cell_type": "markdown",
   "metadata": {},
   "source": [
    "### **Подзадача № 2. Численное решение полученного уравнения**"
   ]
  },
  {
   "cell_type": "markdown",
   "metadata": {},
   "source": [
    "Скачиваю и подключаю рекомендуемую в условии библиотеку для нахождения корней уравнения методом Брента:"
   ]
  },
  {
   "cell_type": "code",
   "execution_count": 2,
   "metadata": {},
   "outputs": [
    {
     "name": "stdout",
     "output_type": "stream",
     "text": [
      "Requirement already satisfied: scipy in c:\\users\\julian\\appdata\\local\\programs\\python\\python310\\lib\\site-packages (1.9.3)\n",
      "Requirement already satisfied: numpy<1.26.0,>=1.18.5 in c:\\users\\julian\\appdata\\local\\programs\\python\\python310\\lib\\site-packages (from scipy) (1.23.3)\n"
     ]
    },
    {
     "name": "stderr",
     "output_type": "stream",
     "text": [
      "\n",
      "[notice] A new release of pip available: 22.2.2 -> 22.3.1\n",
      "[notice] To update, run: python.exe -m pip install --upgrade pip\n"
     ]
    }
   ],
   "source": [
    "!pip install scipy"
   ]
  },
  {
   "cell_type": "code",
   "execution_count": 3,
   "metadata": {},
   "outputs": [],
   "source": [
    "from scipy import optimize as opt"
   ]
  },
  {
   "cell_type": "code",
   "execution_count": 4,
   "metadata": {},
   "outputs": [],
   "source": [
    "import math"
   ]
  },
  {
   "cell_type": "markdown",
   "metadata": {},
   "source": [
    "Напишу функцию, представляющее полученное кубическое уравнение, которую потом подставлю в функцию вычисления корней:"
   ]
  },
  {
   "cell_type": "code",
   "execution_count": 5,
   "metadata": {},
   "outputs": [],
   "source": [
    "rho = 1200\n",
    "l = 2\n",
    "h = 0.02\n",
    "I = 1.2"
   ]
  },
  {
   "cell_type": "code",
   "execution_count": 6,
   "metadata": {},
   "outputs": [],
   "source": [
    "def cubic(r):\n",
    "    omega = math.pi * rho * l\n",
    "    return (math.pow(r, 3) * 2 * omega * h) + (math.pow(r, 2) * 3 * omega * math.pow(h, 2)) + (r * 2 * omega * math.pow(h, 3)) + ((omega * math.pow(h, 4)) / 2 - I)"
   ]
  },
  {
   "cell_type": "markdown",
   "metadata": {},
   "source": [
    "Ищу корень на промежутке $[0, 1000000]$, т.к. считаю, что радиус неотрицателен и не больше 1000000 м.\n",
    "\n",
    "Получаю вещественный корень, соответствующий необходимому внутреннему радиусу $r$, удовлетворяющему поставленным условиям:"
   ]
  },
  {
   "cell_type": "code",
   "execution_count": 7,
   "metadata": {},
   "outputs": [
    {
     "name": "stdout",
     "output_type": "stream",
     "text": [
      "0.14824978647451836\n"
     ]
    }
   ],
   "source": [
    "r_small = opt.brentq(cubic, 0, 1000000)\n",
    "print(r_small)"
   ]
  },
  {
   "cell_type": "markdown",
   "metadata": {},
   "source": [
    "Тогда внешний радиус R будет равен:"
   ]
  },
  {
   "cell_type": "code",
   "execution_count": 8,
   "metadata": {},
   "outputs": [
    {
     "name": "stdout",
     "output_type": "stream",
     "text": [
      "0.16824978647451835\n"
     ]
    }
   ],
   "source": [
    "r_big = h + r_small\n",
    "print(r_big)"
   ]
  },
  {
   "cell_type": "markdown",
   "metadata": {},
   "source": [
    "### **Подзадача № 3. График зависимости $r$ от $I$**"
   ]
  },
  {
   "cell_type": "markdown",
   "metadata": {},
   "source": [
    "Для построения графика зависимости воспользуюсь возможностями библиотеки ***matplotlib***"
   ]
  },
  {
   "cell_type": "code",
   "execution_count": 9,
   "metadata": {},
   "outputs": [],
   "source": [
    "import numpy as np\n",
    "import matplotlib.pyplot as plt"
   ]
  },
  {
   "cell_type": "code",
   "execution_count": 10,
   "metadata": {},
   "outputs": [],
   "source": [
    "omega = math.pi * rho * l"
   ]
  },
  {
   "cell_type": "code",
   "execution_count": 11,
   "metadata": {},
   "outputs": [],
   "source": [
    "def cubic(r):\n",
    "    omega = math.pi * rho * l\n",
    "    return (math.pow(r, 3) * 2 * omega * h) + (math.pow(r, 2) * 3 * omega * math.pow(h, 2)) + (r * 2 * omega * math.pow(h, 3)) + ((omega * math.pow(h, 4)) / 2)"
   ]
  },
  {
   "cell_type": "code",
   "execution_count": 12,
   "metadata": {},
   "outputs": [
    {
     "data": {
      "image/png": "[encoded data removed]",
      "text/plain": [
       "<Figure size 640x480 with 1 Axes>"
      ]
     },
     "metadata": {},
     "output_type": "display_data"
    }
   ],
   "source": [
    "x = np.arange(0, 1, 0.01)\n",
    "vect_func = np.vectorize(cubic)\n",
    "plt.plot(x, vect_func(x))\n",
    "plt.xlabel(r'$r$', fontsize=20)\n",
    "plt.ylabel(r'$I$', fontsize=20)\n",
    "plt.grid(True)\n",
    "plt.show()"
   ]
  }
 ],
 "metadata": {
  "kernelspec": {
   "display_name": "Python 3.10.7 64-bit",
   "language": "python",
   "name": "python3"
  },
  "language_info": {
   "codemirror_mode": {
    "name": "ipython",
    "version": 3
   },
   "file_extension": ".py",
   "mimetype": "text/x-python",
   "name": "python",
   "nbconvert_exporter": "python",
   "pygments_lexer": "ipython3",
   "version": "3.10.7"
  },
  "orig_nbformat": 4,
  "vscode": {
   "interpreter": {
    "hash": "50f728b44ac47fbab6cb0c23813b18d566cbfc8b3b6ceafad2777f90909411c1"
   }
  }
 },
 "nbformat": 4,
 "nbformat_minor": 2
}
