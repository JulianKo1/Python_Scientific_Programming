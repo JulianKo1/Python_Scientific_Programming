{
 "cells": [
  {
   "cell_type": "markdown",
   "metadata": {},
   "source": [
    "# Задача № 19\n",
    "# Матричное умножение\n",
    "### Выполнил: Колабин Ю.В.\n",
    "### Группа: 3822М1ФИии1"
   ]
  },
  {
   "cell_type": "markdown",
   "metadata": {},
   "source": [
    "### **Условие**\n",
    "Вычисление элементов произведения $C$ двух квадратных матриц $A = (a_{ij})$ и $B = (b_{ij})$ по формулам\n",
    "\n",
    "$$\n",
    "C_{ij} = \\sum_{k=1}^{n} a_{ik}b_{kj}\n",
    "$$\n",
    "где $(i = 1,2...,n; j = 1,2,...,n)$\n",
    "\n",
    "легко реализуется с помощью трех вложенных циклов по $i$, по $j$ и по $k$. Различные варианты алгоритма можно получить перестановкой циклов.\n",
    "\n"
   ]
  },
  {
   "cell_type": "markdown",
   "metadata": {},
   "source": [
    "### **Подзадачи**\n",
    "1. Написать шесть функций *multijk, multikj, multjik, ...,* реализующих каждый из этих вариантов.\n",
    "2. Для серии случайно сгенерированных матриц больших размеров замерить время, требуемое этими функциями.\n",
    "3. Нарисовать графики зависимости времени от порядка матриц. Объяснить, почему требуется различное время на выполнение каждой из написанных вами фукций."
   ]
  },
  {
   "cell_type": "markdown",
   "metadata": {},
   "source": [
    "### **Решение**"
   ]
  },
  {
   "cell_type": "markdown",
   "metadata": {},
   "source": [
    "### **Подзадача № 1. Реализация шести функций, представляющих собой процесс перемножения матриц**\n"
   ]
  },
  {
   "cell_type": "markdown",
   "metadata": {},
   "source": [
    "Матрицы $A$ и $B$ квадратные, из чего следует, что эти матрицы должны быть одинаковой размерности, иначе перемножение невозможно. Результатом перемножения будет являться матрица $C$ той же размерности, что и у $A$ и $B$."
   ]
  },
  {
   "cell_type": "code",
   "execution_count": 169,
   "metadata": {},
   "outputs": [],
   "source": [
    "import random as rnd"
   ]
  },
  {
   "cell_type": "markdown",
   "metadata": {},
   "source": [
    "Напишу несколько полезных функций"
   ]
  },
  {
   "cell_type": "markdown",
   "metadata": {},
   "source": [
    "Функция для заполнения матрицы рандомными значениями:"
   ]
  },
  {
   "cell_type": "code",
   "execution_count": 170,
   "metadata": {},
   "outputs": [],
   "source": [
    "def create_random_matrix(dimension):\n",
    "    matrix = []\n",
    "    for i in range(dimension):\n",
    "        matrix.append([])\n",
    "        for j in range(dimension):\n",
    "            matrix[i].append(rnd.randint(-10, 10))\n",
    "    return matrix"
   ]
  },
  {
   "cell_type": "markdown",
   "metadata": {},
   "source": [
    "Функция для заполнения матрицы нулями:"
   ]
  },
  {
   "cell_type": "code",
   "execution_count": 171,
   "metadata": {},
   "outputs": [],
   "source": [
    "def fill_by_zero(dimension, matrix):\n",
    "    for x in range(dimension):\n",
    "        matrix.append([])\n",
    "        for y in range(dimension):\n",
    "            matrix[x].append(0)"
   ]
  },
  {
   "cell_type": "markdown",
   "metadata": {},
   "source": [
    "Создаю две квадратные матрицы, которые в последующем буду перемножать:"
   ]
  },
  {
   "cell_type": "code",
   "execution_count": 172,
   "metadata": {},
   "outputs": [],
   "source": [
    "sq_matrix_dimension = 200\n",
    "\n",
    "a_matrix = create_random_matrix(sq_matrix_dimension)\n",
    "b_matrix = create_random_matrix(sq_matrix_dimension)"
   ]
  },
  {
   "cell_type": "markdown",
   "metadata": {},
   "source": [
    "##### Реализация № 1 (*i j k*):"
   ]
  },
  {
   "cell_type": "code",
   "execution_count": 173,
   "metadata": {},
   "outputs": [],
   "source": [
    "def multijk(dimension, a, b):\n",
    "    matrix = []\n",
    "    \n",
    "    fill_by_zero(dimension, matrix)\n",
    "\n",
    "    for i in range(dimension):\n",
    "        for j in range(dimension):\n",
    "            for k in range(dimension):\n",
    "                matrix[i][j] += a[i][k] * b[k][j]\n",
    "                \n",
    "    return matrix"
   ]
  },
  {
   "cell_type": "markdown",
   "metadata": {},
   "source": [
    "##### Реализация № 2 (*j i k*):"
   ]
  },
  {
   "cell_type": "code",
   "execution_count": 174,
   "metadata": {},
   "outputs": [],
   "source": [
    "def multjik(dimension, a, b):\n",
    "    matrix = []\n",
    "    \n",
    "    fill_by_zero(dimension, matrix)\n",
    "\n",
    "    for j in range(dimension):\n",
    "        for i in range(dimension):\n",
    "            for k in range(dimension):\n",
    "                matrix[i][j] += a[i][k] * b[k][j]\n",
    "                \n",
    "    return matrix"
   ]
  },
  {
   "cell_type": "markdown",
   "metadata": {},
   "source": [
    "##### Реализация № 3 (*k i j*):"
   ]
  },
  {
   "cell_type": "code",
   "execution_count": 175,
   "metadata": {},
   "outputs": [],
   "source": [
    "def multkij(dimension, a, b):\n",
    "    matrix = []\n",
    "    \n",
    "    fill_by_zero(dimension, matrix)\n",
    "\n",
    "    for k in range(dimension):\n",
    "        for i in range(dimension):\n",
    "            for j in range(dimension):\n",
    "                matrix[i][j] += a[i][k] * b[k][j]\n",
    "                \n",
    "    return matrix"
   ]
  },
  {
   "cell_type": "markdown",
   "metadata": {},
   "source": [
    "##### Реализация № 4 (*k j i*):"
   ]
  },
  {
   "cell_type": "code",
   "execution_count": 176,
   "metadata": {},
   "outputs": [],
   "source": [
    "def multkji(dimension, a, b):\n",
    "    matrix = []\n",
    "    \n",
    "    fill_by_zero(dimension, matrix)\n",
    "\n",
    "    for k in range(dimension):\n",
    "        for j in range(dimension):\n",
    "            for i in range(dimension):\n",
    "                matrix[i][j] += a[i][k] * b[k][j]\n",
    "                \n",
    "    return matrix"
   ]
  },
  {
   "cell_type": "markdown",
   "metadata": {},
   "source": [
    "##### Реализация № 5 (*i k j*):"
   ]
  },
  {
   "cell_type": "code",
   "execution_count": 177,
   "metadata": {},
   "outputs": [],
   "source": [
    "def multikj(dimension, a, b):\n",
    "    matrix = []\n",
    "    \n",
    "    fill_by_zero(dimension, matrix)\n",
    "\n",
    "    for i in range(dimension):\n",
    "        for k in range(dimension):\n",
    "            for j in range(dimension):\n",
    "                matrix[i][j] += a[i][k] * b[k][j]\n",
    "                \n",
    "    return matrix"
   ]
  },
  {
   "cell_type": "markdown",
   "metadata": {},
   "source": [
    "##### Реализация № 6 (*j k i*):"
   ]
  },
  {
   "cell_type": "code",
   "execution_count": 178,
   "metadata": {},
   "outputs": [],
   "source": [
    "def multjki(dimension, a, b):\n",
    "    matrix = []\n",
    "    \n",
    "    fill_by_zero(dimension, matrix)\n",
    "\n",
    "    for j in range(dimension):\n",
    "        for k in range(dimension):\n",
    "            for i in range(dimension):\n",
    "                matrix[i][j] += a[i][k] * b[k][j]\n",
    "                \n",
    "    return matrix"
   ]
  },
  {
   "cell_type": "markdown",
   "metadata": {},
   "source": [
    "### **Подзадача № 2. Измерение времени выполнения функций**\n"
   ]
  },
  {
   "cell_type": "markdown",
   "metadata": {},
   "source": [
    "Для измерения времени работы функции воспользуюсь библиотекой *time*:"
   ]
  },
  {
   "cell_type": "code",
   "execution_count": 179,
   "metadata": {},
   "outputs": [],
   "source": [
    "import time"
   ]
  },
  {
   "cell_type": "code",
   "execution_count": 180,
   "metadata": {},
   "outputs": [],
   "source": [
    "import numpy as np"
   ]
  },
  {
   "cell_type": "markdown",
   "metadata": {},
   "source": [
    "Измеряю время работы функций при различных размерностях и записываю их для последующего отображения:"
   ]
  },
  {
   "cell_type": "code",
   "execution_count": 181,
   "metadata": {},
   "outputs": [],
   "source": [
    "final_dimension = 250"
   ]
  },
  {
   "cell_type": "code",
   "execution_count": 182,
   "metadata": {},
   "outputs": [],
   "source": [
    "sq_matrix_dimension = 10\n",
    "\n",
    "ijk_kpts = []\n",
    "jik_kpts = []\n",
    "kij_kpts = []\n",
    "kji_kpts = []\n",
    "ikj_kpts = []\n",
    "jki_kpts = []\n",
    "com_at_kpts = []\n",
    "\n",
    "kpts_num = []\n",
    "\n",
    "while sq_matrix_dimension <= final_dimension:\n",
    "\n",
    "    a_matrix = create_random_matrix(sq_matrix_dimension)\n",
    "    b_matrix = create_random_matrix(sq_matrix_dimension)\n",
    "\n",
    "    kpts_num.append(sq_matrix_dimension)\n",
    "\n",
    "    #--------------------------------------\n",
    "    start = time.time()\n",
    "    c_matrix = multijk(sq_matrix_dimension, a_matrix, b_matrix)\n",
    "    end = time.time()\n",
    "    ijk_kpts.append(end - start)\n",
    "    #--------------------------------------\n",
    "    start = time.time()\n",
    "    c_matrix = multjik(sq_matrix_dimension, a_matrix, b_matrix)\n",
    "    end = time.time()\n",
    "    jik_kpts.append(end - start)\n",
    "    #--------------------------------------\n",
    "    start = time.time()\n",
    "    c_matrix = multkij(sq_matrix_dimension, a_matrix, b_matrix)\n",
    "    end = time.time()\n",
    "    kij_kpts.append(end - start)\n",
    "    #--------------------------------------\n",
    "    start = time.time()\n",
    "    c_matrix = multkji(sq_matrix_dimension, a_matrix, b_matrix)\n",
    "    end = time.time()\n",
    "    kji_kpts.append(end - start)\n",
    "    #--------------------------------------\n",
    "    start = time.time()\n",
    "    c_matrix = multikj(sq_matrix_dimension, a_matrix, b_matrix)\n",
    "    end = time.time()\n",
    "    ikj_kpts.append(end - start)\n",
    "    #--------------------------------------\n",
    "    start = time.time()\n",
    "    c_matrix = multjki(sq_matrix_dimension, a_matrix, b_matrix)\n",
    "    end = time.time()\n",
    "    jki_kpts.append(end - start)\n",
    "    #--------------------------------------\n",
    "    start = time.time()\n",
    "    c_matrix = np.array(a_matrix) @ np.array(b_matrix)\n",
    "    end = time.time()\n",
    "    com_at_kpts.append(end - start)\n",
    "\n",
    "    sq_matrix_dimension += 5"
   ]
  },
  {
   "cell_type": "markdown",
   "metadata": {},
   "source": [
    "### **Подзадача № 3. Графики зависимости времени от порядка матрицы различных функций**"
   ]
  },
  {
   "cell_type": "code",
   "execution_count": 183,
   "metadata": {},
   "outputs": [],
   "source": [
    "import matplotlib.pyplot as plt"
   ]
  },
  {
   "cell_type": "code",
   "execution_count": 184,
   "metadata": {},
   "outputs": [
    {
     "data": {
      "image/png": "[encoded data removed]",
      "text/plain": [
       "<Figure size 640x480 with 1 Axes>"
      ]
     },
     "metadata": {},
     "output_type": "display_data"
    }
   ],
   "source": [
    "plt.plot(kpts_num, jik_kpts, label=\"j_i_k order\")\n",
    "plt.plot(kpts_num, ijk_kpts, label=\"i_j_k order\")\n",
    "plt.plot(kpts_num, kij_kpts, label=\"k_i_j order\")\n",
    "plt.plot(kpts_num, kji_kpts, label=\"k_j_i order\")\n",
    "plt.plot(kpts_num, ikj_kpts, label=\"i_k_j order\")\n",
    "plt.plot(kpts_num, jki_kpts, label=\"j_k_i order\")\n",
    "plt.plot(kpts_num, com_at_kpts, label=\"\\\"@\\\" operator\")\n",
    "plt.legend(loc=\"upper left\")\n",
    "plt.xlabel(\"Matrix dimension\")\n",
    "plt.ylabel(\"Sec\")\n",
    "plt.grid(True)\n"
   ]
  },
  {
   "cell_type": "markdown",
   "metadata": {},
   "source": [
    "По графику видно, что функция перемножения матриц, где циклы расположены в порядке $k, j, i$ и $k, i, j$ показывают себя ощутимо хуже остальных перестановок циклов. Все функции имеют разное время работы, т.к. в каждой заложен алгоритм, имеющий разные способы обхода матрицы, ускоряющий/замедляющий время работы функции. Решение \"в лоб\", как видно, совсем неэффективно, что показывает оператор \"@\". Данный оператор эффективно перемножает матрицы за счет различных агоритмов, ускоряющих вычисления, например, хэшироване.\n",
    "\n",
    "При использовании оператора \"@\", перемножение выполняется, казалось бы, за константное время, но все же оно линейно увеличивается с ростом размерности матриц.\n",
    "\n",
    "Также на графике видны скачки, связанные с железом."
   ]
  }
 ],
 "metadata": {
  "kernelspec": {
   "display_name": "Python 3.10.7 64-bit",
   "language": "python",
   "name": "python3"
  },
  "language_info": {
   "codemirror_mode": {
    "name": "ipython",
    "version": 3
   },
   "file_extension": ".py",
   "mimetype": "text/x-python",
   "name": "python",
   "nbconvert_exporter": "python",
   "pygments_lexer": "ipython3",
   "version": "3.10.7"
  },
  "orig_nbformat": 4,
  "vscode": {
   "interpreter": {
    "hash": "50f728b44ac47fbab6cb0c23813b18d566cbfc8b3b6ceafad2777f90909411c1"
   }
  }
 },
 "nbformat": 4,
 "nbformat_minor": 2
}
